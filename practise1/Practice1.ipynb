{
 "cells": [
  {
   "cell_type": "markdown",
   "metadata": {},
   "source": [
    "# Image classifier using least squares method"
   ]
  },
  {
   "cell_type": "code",
   "execution_count": 1,
   "metadata": {},
   "outputs": [],
   "source": [
    "import numpy as np"
   ]
  },
  {
   "cell_type": "markdown",
   "metadata": {},
   "source": [
    "Let's build a simple classifier based on least square method.\n",
    "\n",
    "The data which we are using is written into two files - mnist_train.csv and mnist_test.csv. \n",
    "You can download it here: https://pjreddie.com/projects/mnist-in-csv/\n",
    "\n",
    "Attention! Reading data from csv files requires a lot of memory (up to couple of gigabytes) and computation power, run the following block of code only once."
   ]
  },
  {
   "cell_type": "code",
   "execution_count": 2,
   "metadata": {},
   "outputs": [],
   "source": [
    "def load_train_data():\n",
    "    \"\"\"\n",
    "    reads csv file with train dataset\n",
    "    csv file should be located in the same directory with notebook\n",
    "    \"\"\"\n",
    "    return np.genfromtxt(\"mnist_train.csv\", delimiter=',')\n",
    "\n",
    "def load_test_data():\n",
    "    \"\"\"\n",
    "    reads csv file with test dataset\n",
    "    csv file should be located in the same directory with notebook\n",
    "    \"\"\"\n",
    "    return np.genfromtxt(\"mnist_test.csv\", delimiter=',')"
   ]
  },
  {
   "cell_type": "code",
   "execution_count": 3,
   "metadata": {},
   "outputs": [],
   "source": [
    "train_data = load_train_data()\n",
    "test_data = load_test_data()"
   ]
  },
  {
   "cell_type": "code",
   "execution_count": 4,
   "metadata": {},
   "outputs": [],
   "source": [
    "def select_images_and_labels_from_dataset(data, shape):\n",
    "    \"\"\"selects rundom images from dataset\"\"\"\n",
    "    old_shape = data.shape[0]\n",
    "    indexces = np.random.choice(old_shape, shape, replace=False)\n",
    "    labels = data[indexces, 0].astype(int)\n",
    "    images = data[indexces, 1:]\n",
    "    return labels, images\n",
    "\n",
    "def get_train_labels_and_images():\n",
    "    \"\"\"selects random images from train data\"\"\"\n",
    "    return select_images_and_labels_from_dataset(train_data, N_train)\n",
    "\n",
    "def get_test_labels_and_images():\n",
    "    \"\"\"selects random images from test data\"\"\"\n",
    "    return select_images_and_labels_from_dataset(test_data, N_test)"
   ]
  },
  {
   "cell_type": "markdown",
   "metadata": {},
   "source": [
    "Now, let's define the amount of images we will use to train the classifier and test it.\n",
    "After that we will load train and test data and select rundom images from those datasets.\n",
    "\n",
    "As you will see, there are 60k and 10k vectors in train and test data respectively. Each vector contains 785 values and represents an image 28X28 with a lable. First value in a vector is lables of an image - digit from 0 to 9, next 784 values are image data."
   ]
  },
  {
   "cell_type": "code",
   "execution_count": 5,
   "metadata": {},
   "outputs": [],
   "source": [
    "N_train = 10000\n",
    "N_test = 1000\n",
    "train_labels, train_images = get_train_labels_and_images()\n",
    "test_labels, test_images = get_test_labels_and_images()"
   ]
  },
  {
   "cell_type": "markdown",
   "metadata": {},
   "source": [
    "The algorythm of classfifier is the following:\n",
    "1. Select test image from test images\n",
    "2. Find the distances from selected image to train images\n",
    "3. Find minimum distance and return it's label from train labels"
   ]
  },
  {
   "cell_type": "code",
   "execution_count": 6,
   "metadata": {},
   "outputs": [],
   "source": [
    "def classify_image(test_image, train_images, train_labels):\n",
    "    DM = np.square(test_image - train_images).sum(axis=1)\n",
    "    index = DM.argmin(axis=0)\n",
    "    return train_labels[index]"
   ]
  },
  {
   "cell_type": "code",
   "execution_count": 7,
   "metadata": {},
   "outputs": [],
   "source": [
    "predicted_results = [classify_image(test_image, train_images, train_labels) for test_image in test_images]"
   ]
  },
  {
   "cell_type": "markdown",
   "metadata": {},
   "source": [
    "Let's calculate the accuracy of our algorythm:"
   ]
  },
  {
   "cell_type": "code",
   "execution_count": 8,
   "metadata": {},
   "outputs": [
    {
     "name": "stdout",
     "output_type": "stream",
     "text": [
      "SAMPLES COUNT: 10000\n",
      "TEST COUNT: 1000\n",
      "ACCURACY: 95.1 %\n"
     ]
    }
   ],
   "source": [
    "accuracy = (predicted_results == test_labels).sum() / N_test\n",
    "print(\"SAMPLES COUNT:\", N_train)\n",
    "print(\"TEST COUNT:\", N_test)\n",
    "print(\"ACCURACY:\", np.round(accuracy * 100, 2), '%')"
   ]
  },
  {
   "cell_type": "markdown",
   "metadata": {},
   "source": [
    "However, how we can maximise the accuracy? We will see how the size of train data influences the accuracy of image prediction."
   ]
  },
  {
   "cell_type": "code",
   "execution_count": 9,
   "metadata": {},
   "outputs": [],
   "source": [
    "def run_train_itteration(N_train, test_images, test_labels):\n",
    "    train_labels, train_images = select_images_and_labels_from_dataset(train_data, N_train)\n",
    "    predicted_results = [classify_image(test_image, train_images, train_labels) for test_image in test_images]\n",
    "    accuracy = (predicted_results == test_labels).sum() / test_images.shape[0]\n",
    "    return accuracy\n",
    "\n",
    "def  get_average_accuracy(N_train, amount_of_iterations):\n",
    "    accuracies = [run_train_itteration(N_train, test_images, test_labels) for _ in range(amount_of_iterations)]\n",
    "    return sum(accuracies) / amount_of_iterations"
   ]
  },
  {
   "cell_type": "code",
   "execution_count": 10,
   "metadata": {},
   "outputs": [],
   "source": [
    "size_of_subset_v = [50,  200, 500, 1000, 2000, 5000, 10000]\n",
    "count_of_iters_v = [100, 40,  20,  10,   5,   2,    1]\n",
    "\n",
    "test_labels, test_images = get_test_labels_and_images()\n",
    "accuracies = [get_average_accuracy(size, iters)\n",
    "                    for size, iters in zip(size_of_subset_v, count_of_iters_v)]"
   ]
  },
  {
   "cell_type": "markdown",
   "metadata": {},
   "source": [
    "Now let's visualize results with mathplotlib. Note that x-axis is logarithmically scaled."
   ]
  },
  {
   "cell_type": "code",
   "execution_count": 12,
   "metadata": {},
   "outputs": [
    {
     "data": {
      "image/png": "[encoded data removed]",
      "text/plain": [
       "<Figure size 432x288 with 1 Axes>"
      ]
     },
     "metadata": {
      "needs_background": "light"
     },
     "output_type": "display_data"
    }
   ],
   "source": [
    "import matplotlib.pyplot as plt\n",
    "\n",
    "plt.semilogx(size_of_subset_v, accuracies, color = \"g\")\n",
    "plt.scatter(size_of_subset_v, accuracies, color = \"b\")\n",
    "\n",
    "plt.xlabel(\"Size of train subset\")\n",
    "plt.ylabel(\"Accuracy\")\n",
    "plt.grid(axis=\"y\", which=\"both\", linestyle='--')\n",
    "\n",
    "plt.show()"
   ]
  },
  {
   "cell_type": "code",
   "execution_count": null,
   "metadata": {},
   "outputs": [],
   "source": []
  }
 ],
 "metadata": {
  "kernelspec": {
   "display_name": "Python 3",
   "language": "python",
   "name": "python3"
  },
  "language_info": {
   "codemirror_mode": {
    "name": "ipython",
    "version": 3
   },
   "file_extension": ".py",
   "mimetype": "text/x-python",
   "name": "python",
   "nbconvert_exporter": "python",
   "pygments_lexer": "ipython3",
   "version": "3.6.6"
  }
 },
 "nbformat": 4,
 "nbformat_minor": 2
}
